{
 "cells": [
  {
   "cell_type": "code",
   "execution_count": 7,
   "metadata": {},
   "outputs": [],
   "source": [
    "import requests\n",
    "from requests_toolbelt.utils import dump"
   ]
  },
  {
   "cell_type": "code",
   "execution_count": 89,
   "metadata": {},
   "outputs": [
    {
     "name": "stdout",
     "output_type": "stream",
     "text": [
      "{'result': [{'password': 'Peralta', 'username': 'Val'}, {'password': 'fdas', 'username': 'Val'}]}\n"
     ]
    }
   ],
   "source": [
    "base_url = \"http://127.0.0.1:5000/printdb/Val\"\n",
    "r = requests.get(base_url).json()\n",
    "print(r)"
   ]
  },
  {
   "cell_type": "markdown",
   "metadata": {},
   "source": [
    "# GET"
   ]
  },
  {
   "cell_type": "code",
   "execution_count": 87,
   "metadata": {},
   "outputs": [
    {
     "name": "stdout",
     "output_type": "stream",
     "text": [
      "Natu fdas\n",
      "James fdsafdsa\n",
      "Val Peralta\n",
      "Val fdas\n"
     ]
    }
   ],
   "source": [
    "base_url = \"http://127.0.0.1:5000/printdb\"\n",
    "r = requests.get(base_url).json()\n",
    "\n",
    "all_users = r[\"all_users\"]\n",
    "\n",
    "for user in all_users:\n",
    "    print(user['username'], user['password'])"
   ]
  },
  {
   "cell_type": "markdown",
   "metadata": {},
   "source": [
    "# POST"
   ]
  },
  {
   "cell_type": "code",
   "execution_count": 82,
   "metadata": {},
   "outputs": [
    {
     "name": "stdout",
     "output_type": "stream",
     "text": [
      "< POST /adduser HTTP/1.1\r\n",
      "< Host: 127.0.0.1:5000\r\n",
      "< User-Agent: python-requests/2.25.0\r\n",
      "< Accept-Encoding: gzip, deflate\r\n",
      "< Accept: */*\r\n",
      "< Connection: keep-alive\r\n",
      "< Content-Length: 39\r\n",
      "< Content-Type: application/json\r\n",
      "< \r\n",
      "< {\"username\": \"Val\", \"password\": \"fdas\"}\r\n",
      "> HTTP/1.0 201 CREATED\r\n",
      "> Content-Type: application/json\r\n",
      "> Content-Length: 68\r\n",
      "> Server: Werkzeug/1.0.1 Python/3.9.0\r\n",
      "> Date: Tue, 02 Feb 2021 17:03:19 GMT\r\n",
      "> \r\n",
      "{\n",
      "  \"Added\": {\n",
      "    \"password\": \"fdas\", \n",
      "    \"username\": \"Val\"\n",
      "  }\n",
      "}\n",
      "\n"
     ]
    }
   ],
   "source": [
    "base_url = \"http://127.0.0.1:5000/adduser\"\n",
    "payload = {\n",
    "    \"username\": \"Val\",\n",
    "    \"password\": \"fdas\"\n",
    "}\n",
    "r = requests.post(base_url, json=payload)\n",
    "data = dump.dump_all(r)\n",
    "print(data.decode('utf-8'))"
   ]
  },
  {
   "cell_type": "code",
   "execution_count": 86,
   "metadata": {},
   "outputs": [
    {
     "name": "stdout",
     "output_type": "stream",
     "text": [
      "< PUT /updateuser/James HTTP/1.1\r\n",
      "< Host: 127.0.0.1:5000\r\n",
      "< User-Agent: python-requests/2.25.0\r\n",
      "< Accept-Encoding: gzip, deflate\r\n",
      "< Accept: */*\r\n",
      "< Connection: keep-alive\r\n",
      "< Content-Length: 24\r\n",
      "< Content-Type: application/json\r\n",
      "< \r\n",
      "< {\"password\": \"fdsafdsa\"}\r\n",
      "> HTTP/1.0 204 NO CONTENT\r\n",
      "> Content-Type: application/json\r\n",
      "> Server: Werkzeug/1.0.1 Python/3.9.0\r\n",
      "> Date: Tue, 02 Feb 2021 17:04:20 GMT\r\n",
      "> \r\n",
      "\n"
     ]
    }
   ],
   "source": [
    "base_url = \"http://127.0.0.1:5000/updateuser/James\"\n",
    "payload = {\n",
    "    \"password\": \"fdsafdsa\"\n",
    "}\n",
    "response = requests.put(base_url, json=payload)\n",
    "data = dump.dump_all(response)\n",
    "print(data.decode('utf-8'))"
   ]
  }
 ],
 "metadata": {
  "kernelspec": {
   "display_name": "Python 3",
   "language": "python",
   "name": "python3"
  },
  "language_info": {
   "codemirror_mode": {
    "name": "ipython",
    "version": 3
   },
   "file_extension": ".py",
   "mimetype": "text/x-python",
   "name": "python",
   "nbconvert_exporter": "python",
   "pygments_lexer": "ipython3",
   "version": "3.8.6"
  }
 },
 "nbformat": 4,
 "nbformat_minor": 4
}
