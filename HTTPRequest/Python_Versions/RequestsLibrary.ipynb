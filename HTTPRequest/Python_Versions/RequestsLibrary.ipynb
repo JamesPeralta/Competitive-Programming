{
 "cells": [
  {
   "cell_type": "code",
   "execution_count": 1,
   "metadata": {},
   "outputs": [],
   "source": [
    "import requests"
   ]
  },
  {
   "cell_type": "markdown",
   "metadata": {},
   "source": [
    "# Get all data for a rectangular zone"
   ]
  },
  {
   "cell_type": "code",
   "execution_count": 20,
   "metadata": {},
   "outputs": [],
   "source": [
    "base_url = \"https://api.openweathermap.org/data/2.5/box/city\"\n",
    "params = {\n",
    "    \"bbox\": \"-123,34,-118,39\",\n",
    "    \"appid\": \"N/A\",\n",
    "    \"units\": \"metric\"\n",
    "}\n",
    "r = requests.get(base_url, params=params)"
   ]
  },
  {
   "cell_type": "code",
   "execution_count": 22,
   "metadata": {},
   "outputs": [],
   "source": [
    "response = r.json()"
   ]
  },
  {
   "cell_type": "code",
   "execution_count": 25,
   "metadata": {},
   "outputs": [
    {
     "name": "stdout",
     "output_type": "stream",
     "text": [
      "In San Francisco, it is 13.9 degrees\n",
      "In Los Angeles, it is 19.33 degrees\n"
     ]
    }
   ],
   "source": [
    "for city in response[\"list\"]:\n",
    "    name = city[\"name\"]\n",
    "    temp = city[\"main\"][\"temp\"]\n",
    "    print('In {}, it is {} degrees'.format(name, temp))"
   ]
  },
  {
   "cell_type": "markdown",
   "metadata": {},
   "source": [
    "# Getting current Temperature"
   ]
  },
  {
   "cell_type": "code",
   "execution_count": 10,
   "metadata": {},
   "outputs": [],
   "source": [
    "params = {\n",
    "    \"q\": \"Calgary\",\n",
    "    \"appid\": \"N/A\",\n",
    "    \"units\": \"metric\"\n",
    "}\n",
    "r = requests.get('https://api.openweathermap.org/data/2.5/weather', params=params)"
   ]
  },
  {
   "cell_type": "code",
   "execution_count": 12,
   "metadata": {},
   "outputs": [],
   "source": [
    "response = r.json()"
   ]
  },
  {
   "cell_type": "code",
   "execution_count": 13,
   "metadata": {
    "scrolled": true
   },
   "outputs": [
    {
     "data": {
      "text/plain": [
       "{'coord': {'lon': -114.0853, 'lat': 51.0501},\n",
       " 'weather': [{'id': 802,\n",
       "   'main': 'Clouds',\n",
       "   'description': 'scattered clouds',\n",
       "   'icon': '03d'}],\n",
       " 'base': 'stations',\n",
       " 'main': {'temp': 5.56,\n",
       "  'feels_like': 2.04,\n",
       "  'temp_min': 5,\n",
       "  'temp_max': 6,\n",
       "  'pressure': 1007,\n",
       "  'humidity': 52},\n",
       " 'visibility': 10000,\n",
       " 'wind': {'speed': 1.54, 'deg': 210},\n",
       " 'clouds': {'all': 40},\n",
       " 'dt': 1612210522,\n",
       " 'sys': {'type': 1,\n",
       "  'id': 989,\n",
       "  'country': 'CA',\n",
       "  'sunrise': 1612192356,\n",
       "  'sunset': 1612225636},\n",
       " 'timezone': -25200,\n",
       " 'id': 5913490,\n",
       " 'name': 'Calgary',\n",
       " 'cod': 200}"
      ]
     },
     "execution_count": 13,
     "metadata": {},
     "output_type": "execute_result"
    }
   ],
   "source": [
    "response"
   ]
  },
  {
   "cell_type": "code",
   "execution_count": 18,
   "metadata": {},
   "outputs": [
    {
     "name": "stdout",
     "output_type": "stream",
     "text": [
      "In Calgary, it is 5.56 degrees but feels like 2.04\n"
     ]
    }
   ],
   "source": [
    "temp = response[\"main\"][\"temp\"]\n",
    "feels_like = response[\"main\"][\"feels_like\"]\n",
    "print('In Calgary, it is {} degrees but feels like {}'.format(temp, feels_like))"
   ]
  }
 ],
 "metadata": {
  "kernelspec": {
   "display_name": "Python 3",
   "language": "python",
   "name": "python3"
  },
  "language_info": {
   "codemirror_mode": {
    "name": "ipython",
    "version": 3
   },
   "file_extension": ".py",
   "mimetype": "text/x-python",
   "name": "python",
   "nbconvert_exporter": "python",
   "pygments_lexer": "ipython3",
   "version": "3.8.6"
  }
 },
 "nbformat": 4,
 "nbformat_minor": 4
}
