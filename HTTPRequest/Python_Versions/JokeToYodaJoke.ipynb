{
 "cells": [
  {
   "cell_type": "code",
   "execution_count": 1,
   "metadata": {},
   "outputs": [],
   "source": [
    "import requests"
   ]
  },
  {
   "cell_type": "code",
   "execution_count": 4,
   "metadata": {},
   "outputs": [],
   "source": [
    "def get_random_joke():\n",
    "    url = \"https://joke3.p.rapidapi.com/v1/joke\"\n",
    "    headers = {\n",
    "        'x-rapidapi-key': \"0e0e9d63c2msh934823435be766cp1534c5jsnbdeaafdfcadf\",\n",
    "        'x-rapidapi-host': \"joke3.p.rapidapi.com\"\n",
    "    }\n",
    "    \n",
    "    resp = requests.get(url, headers=headers).json()\n",
    "    \n",
    "    return resp[\"content\"]"
   ]
  },
  {
   "cell_type": "code",
   "execution_count": null,
   "metadata": {},
   "outputs": [],
   "source": [
    "def convert_joke_to_yoda(joke):\n",
    "    url = \"https://yodish.p.rapidapi.com/yoda.json\"\n",
    "    params = {\"text\": joke}\n",
    "    headers = {\n",
    "        'x-rapidapi-key': \"0e0e9d63c2msh934823435be766cp1534c5jsnbdeaafdfcadf\",\n",
    "        'x-rapidapi-host': \"yodish.p.rapidapi.com\"\n",
    "    }\n",
    "    \n",
    "    resp = requests.post(url, headers=headers,)"
   ]
  },
  {
   "cell_type": "code",
   "execution_count": 5,
   "metadata": {},
   "outputs": [
    {
     "data": {
      "text/plain": [
       "\"Every machine in the coin factory broke down all of a sudden without explanation. It just doesn't make any cents.\""
      ]
     },
     "execution_count": 5,
     "metadata": {},
     "output_type": "execute_result"
    }
   ],
   "source": [
    "get_random_joke()"
   ]
  }
 ],
 "metadata": {
  "kernelspec": {
   "display_name": "Python 3",
   "language": "python",
   "name": "python3"
  },
  "language_info": {
   "codemirror_mode": {
    "name": "ipython",
    "version": 3
   },
   "file_extension": ".py",
   "mimetype": "text/x-python",
   "name": "python",
   "nbconvert_exporter": "python",
   "pygments_lexer": "ipython3",
   "version": "3.9.0"
  }
 },
 "nbformat": 4,
 "nbformat_minor": 4
}
