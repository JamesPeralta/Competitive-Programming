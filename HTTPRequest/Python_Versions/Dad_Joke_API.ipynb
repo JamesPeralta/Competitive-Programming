{
 "cells": [
  {
   "cell_type": "code",
   "execution_count": 1,
   "metadata": {},
   "outputs": [],
   "source": [
    "import requests"
   ]
  },
  {
   "cell_type": "code",
   "execution_count": 15,
   "metadata": {},
   "outputs": [],
   "source": [
    "base_url = \"https://icanhazdadjoke.com/\"\n",
    "\n",
    "headers = {\n",
    "    \"accept\": \"application/json\",\n",
    "    \"user-agent\": \"Hello\"\n",
    "}"
   ]
  },
  {
   "cell_type": "code",
   "execution_count": 16,
   "metadata": {},
   "outputs": [],
   "source": [
    "response = requests.get(base_url, headers=headers)"
   ]
  },
  {
   "cell_type": "code",
   "execution_count": 19,
   "metadata": {},
   "outputs": [],
   "source": [
    "def print_ten_jokes():\n",
    "    base_url = \"https://icanhazdadjoke.com/\"\n",
    "    headers = {\n",
    "        \"accept\": \"application/json\",\n",
    "        \"user-agent\": \"Hello\"\n",
    "    }\n",
    "    \n",
    "    for _ in range(10):\n",
    "        response = requests.get(base_url, headers=headers).json()\n",
    "        print(response[\"joke\"])"
   ]
  },
  {
   "cell_type": "code",
   "execution_count": 20,
   "metadata": {},
   "outputs": [
    {
     "name": "stdout",
     "output_type": "stream",
     "text": [
      "Two guys walked into a bar, the third one ducked.\n",
      "How do robots eat guacamole? With computer chips.\n",
      "Why are graveyards so noisy? Because of all the coffin.\n",
      "What does a clock do when it's hungry? It goes back four seconds!\n",
      "Why did the worker get fired from the orange juice factory? Lack of concentration.\n",
      "Why was Pavlov's beard so soft?  Because he conditioned it.\n",
      "What's orange and sounds like a parrot? A Carrot.\n",
      "I have the heart of a lion... and a lifetime ban from the San Diego Zoo.\n",
      "How does the moon cut his hair? Eclipse it.\n",
      "Why was Pavlov's beard so soft?  Because he conditioned it.\n"
     ]
    }
   ],
   "source": [
    "print_ten_jokes()"
   ]
  }
 ],
 "metadata": {
  "kernelspec": {
   "display_name": "Python 3",
   "language": "python",
   "name": "python3"
  },
  "language_info": {
   "codemirror_mode": {
    "name": "ipython",
    "version": 3
   },
   "file_extension": ".py",
   "mimetype": "text/x-python",
   "name": "python",
   "nbconvert_exporter": "python",
   "pygments_lexer": "ipython3",
   "version": "3.8.6"
  }
 },
 "nbformat": 4,
 "nbformat_minor": 4
}
