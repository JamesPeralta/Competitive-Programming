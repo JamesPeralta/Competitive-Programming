{
 "cells": [
  {
   "cell_type": "code",
   "execution_count": 14,
   "metadata": {},
   "outputs": [],
   "source": [
    "import requests\n",
    "import json"
   ]
  },
  {
   "cell_type": "markdown",
   "metadata": {},
   "source": [
    "# Get Top Drake Songs"
   ]
  },
  {
   "cell_type": "code",
   "execution_count": 24,
   "metadata": {},
   "outputs": [],
   "source": [
    "params = {\n",
    "    \"access_token\": \"N/A\",\n",
    "    \"market\": \"CA\"\n",
    "}"
   ]
  },
  {
   "cell_type": "code",
   "execution_count": 25,
   "metadata": {},
   "outputs": [
    {
     "name": "stdout",
     "output_type": "stream",
     "text": [
      "https://api.spotify.com/v1/artists/3TVXtAsR1Inumwj472S9r4/top-tracks\n"
     ]
    }
   ],
   "source": [
    "# Fetch Drake\n",
    "drake_id = \"3TVXtAsR1Inumwj472S9r4\"\n",
    "base_url = \"https://api.spotify.com/v1/artists/{}/top-tracks\".format(drake_id)\n",
    "print()\n",
    "r = requests.get(base_url, params=params)"
   ]
  },
  {
   "cell_type": "code",
   "execution_count": 26,
   "metadata": {
    "scrolled": true
   },
   "outputs": [
    {
     "data": {
      "text/plain": [
       "200"
      ]
     },
     "execution_count": 26,
     "metadata": {},
     "output_type": "execute_result"
    }
   ],
   "source": [
    "r.status_code"
   ]
  },
  {
   "cell_type": "code",
   "execution_count": 27,
   "metadata": {},
   "outputs": [],
   "source": [
    "response = r.json()"
   ]
  },
  {
   "cell_type": "code",
   "execution_count": 42,
   "metadata": {
    "scrolled": true
   },
   "outputs": [
    {
     "name": "stdout",
     "output_type": "stream",
     "text": [
      "Laugh Now Cry Later (feat. Lil Durk) --> 2SAqBLGA283SUiwJ3xOUVI\n",
      "POPSTAR (feat. Drake) --> 6EDO9iiTtwNv6waLwa1UUq\n",
      "Life Is Good (feat. Drake) --> 5yY9lUy8nbvjM1Uyo1Uqoc\n",
      "GREECE (feat. Drake) --> 35RJhm1pEovTBwnNR0zWad\n",
      "God's Plan --> 6DCZcSspjsKoFjzjrWoCdn\n",
      "Toosie Slide --> 466cKvZn1j45IpxDdYZqdA\n",
      "Chicago Freestyle (feat. Giveon) --> 4wVOKKEHUJxHCFFNUWDn0B\n",
      "Money In The Grave (Drake ft. Rick Ross) --> 5ry2OE6R2zPQFDO85XkgRb\n",
      "One Dance --> 1zi7xx7UVEFkmKfv06H8x0\n",
      "Passionfruit --> 5mCPDVBb16L4XQwDdbRUpz\n"
     ]
    }
   ],
   "source": [
    "# TOP DRAKE SONGS\n",
    "for track in response[\"tracks\"]:\n",
    "    track_name = track[\"name\"]\n",
    "    track_id = track[\"id\"]\n",
    "    print(\"{} --> {}\".format(track_name, track_id))"
   ]
  },
  {
   "cell_type": "markdown",
   "metadata": {},
   "source": [
    "# Get data on PassionFruit"
   ]
  },
  {
   "cell_type": "code",
   "execution_count": 46,
   "metadata": {},
   "outputs": [],
   "source": [
    "base_url = \"https://api.spotify.com/v1/tracks\"\n",
    "params = {\n",
    "    \"access_token\": \"N/A\",\n",
    "    \"ids\": \"5mCPDVBb16L4XQwDdbRUpz,1zi7xx7UVEFkmKfv06H8x0\",\n",
    "    \"market\": \"CA\"\n",
    "}\n",
    "r = requests.get(base_url, params=params)"
   ]
  },
  {
   "cell_type": "code",
   "execution_count": 48,
   "metadata": {},
   "outputs": [],
   "source": [
    "response = r.json()"
   ]
  },
  {
   "cell_type": "code",
   "execution_count": 51,
   "metadata": {},
   "outputs": [
    {
     "data": {
      "text/plain": [
       "dict_keys(['album', 'artists', 'disc_number', 'duration_ms', 'explicit', 'external_ids', 'external_urls', 'href', 'id', 'is_local', 'is_playable', 'name', 'popularity', 'preview_url', 'track_number', 'type', 'uri'])"
      ]
     },
     "execution_count": 51,
     "metadata": {},
     "output_type": "execute_result"
    }
   ],
   "source": [
    "response[\"tracks\"][0].keys()"
   ]
  },
  {
   "cell_type": "code",
   "execution_count": 50,
   "metadata": {},
   "outputs": [
    {
     "data": {
      "text/plain": [
       "{'album': {'album_type': 'album',\n",
       "  'artists': [{'external_urls': {'spotify': 'https://open.spotify.com/artist/3TVXtAsR1Inumwj472S9r4'},\n",
       "    'href': 'https://api.spotify.com/v1/artists/3TVXtAsR1Inumwj472S9r4',\n",
       "    'id': '3TVXtAsR1Inumwj472S9r4',\n",
       "    'name': 'Drake',\n",
       "    'type': 'artist',\n",
       "    'uri': 'spotify:artist:3TVXtAsR1Inumwj472S9r4'}],\n",
       "  'external_urls': {'spotify': 'https://open.spotify.com/album/1lXY618HWkwYKJWBRYR4MK'},\n",
       "  'href': 'https://api.spotify.com/v1/albums/1lXY618HWkwYKJWBRYR4MK',\n",
       "  'id': '1lXY618HWkwYKJWBRYR4MK',\n",
       "  'images': [{'height': 640,\n",
       "    'url': 'https://i.scdn.co/image/ab67616d0000b2734f0fd9dad63977146e685700',\n",
       "    'width': 640},\n",
       "   {'height': 300,\n",
       "    'url': 'https://i.scdn.co/image/ab67616d00001e024f0fd9dad63977146e685700',\n",
       "    'width': 300},\n",
       "   {'height': 64,\n",
       "    'url': 'https://i.scdn.co/image/ab67616d000048514f0fd9dad63977146e685700',\n",
       "    'width': 64}],\n",
       "  'name': 'More Life',\n",
       "  'release_date': '2017-03-18',\n",
       "  'release_date_precision': 'day',\n",
       "  'total_tracks': 22,\n",
       "  'type': 'album',\n",
       "  'uri': 'spotify:album:1lXY618HWkwYKJWBRYR4MK'},\n",
       " 'artists': [{'external_urls': {'spotify': 'https://open.spotify.com/artist/3TVXtAsR1Inumwj472S9r4'},\n",
       "   'href': 'https://api.spotify.com/v1/artists/3TVXtAsR1Inumwj472S9r4',\n",
       "   'id': '3TVXtAsR1Inumwj472S9r4',\n",
       "   'name': 'Drake',\n",
       "   'type': 'artist',\n",
       "   'uri': 'spotify:artist:3TVXtAsR1Inumwj472S9r4'}],\n",
       " 'disc_number': 1,\n",
       " 'duration_ms': 298940,\n",
       " 'explicit': True,\n",
       " 'external_ids': {'isrc': 'USCM51700072'},\n",
       " 'external_urls': {'spotify': 'https://open.spotify.com/track/5mCPDVBb16L4XQwDdbRUpz'},\n",
       " 'href': 'https://api.spotify.com/v1/tracks/5mCPDVBb16L4XQwDdbRUpz',\n",
       " 'id': '5mCPDVBb16L4XQwDdbRUpz',\n",
       " 'is_local': False,\n",
       " 'is_playable': True,\n",
       " 'name': 'Passionfruit',\n",
       " 'popularity': 78,\n",
       " 'preview_url': None,\n",
       " 'track_number': 3,\n",
       " 'type': 'track',\n",
       " 'uri': 'spotify:track:5mCPDVBb16L4XQwDdbRUpz'}"
      ]
     },
     "execution_count": 50,
     "metadata": {},
     "output_type": "execute_result"
    }
   ],
   "source": [
    "response[\"tracks\"][0]"
   ]
  }
 ],
 "metadata": {
  "kernelspec": {
   "display_name": "Python 3",
   "language": "python",
   "name": "python3"
  },
  "language_info": {
   "codemirror_mode": {
    "name": "ipython",
    "version": 3
   },
   "file_extension": ".py",
   "mimetype": "text/x-python",
   "name": "python",
   "nbconvert_exporter": "python",
   "pygments_lexer": "ipython3",
   "version": "3.8.6"
  }
 },
 "nbformat": 4,
 "nbformat_minor": 4
}
